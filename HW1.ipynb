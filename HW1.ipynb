{
 "cells": [
  {
   "cell_type": "markdown",
   "metadata": {},
   "source": [
    "# Problem Solving"
   ]
  },
  {
   "cell_type": "markdown",
   "metadata": {},
   "source": [
    "## Algorithms "
   ]
  },
  {
   "cell_type": "markdown",
   "metadata": {},
   "source": [
    "#### Viral Advertising\n"
   ]
  },
  {
   "cell_type": "code",
   "execution_count": null,
   "metadata": {},
   "outputs": [],
   "source": [
    "import math\n",
    "import os\n",
    "import random\n",
    "import re\n",
    "import sys\n",
    "\n",
    "# Complete the viralAdvertising function below.\n",
    "def viralAdvertising(n):\n",
    "    x=[]\n",
    "    x.append(2) # first element is 2 because floor(5/2)=2\n",
    "    for i in range(n-1): # loops that calculates the people interested from the second day\n",
    "        x.append(math.floor(x[i]*3/2)) \n",
    "    return sum(x)\n",
    "\n",
    "\n",
    "\n",
    "if __name__ == '__main__':\n",
    "    fptr = open(os.environ['OUTPUT_PATH'], 'w')\n",
    "\n",
    "    n = int(input())\n",
    "\n",
    "    result = viralAdvertising(n)\n",
    "\n",
    "    fptr.write(str(result) + '\\n')\n",
    "\n",
    "    fptr.close()\n",
    "\n",
    "    "
   ]
  },
  {
   "cell_type": "markdown",
   "metadata": {},
   "source": [
    "#### Birthday CAke CAndles\n"
   ]
  },
  {
   "cell_type": "code",
   "execution_count": null,
   "metadata": {},
   "outputs": [],
   "source": [
    "#!/bin/python3\n",
    "\n",
    "import math\n",
    "import os\n",
    "import random\n",
    "import re\n",
    "import sys\n",
    "\n",
    "# Complete the birthdayCakeCandles function below.\n",
    "def birthdayCakeCandles(ar):\n",
    "    mass=ar[0]\n",
    "    for i in range(len(ar)): # find max on ar\n",
    "        if ar[i]>mass:\n",
    "            mass=ar[i]\n",
    "    cont=0\n",
    "    for i in range(len(ar)): # find elements that are equal to max of ar\n",
    "        if mass==ar[i]:\n",
    "            cont+=1\n",
    "    return cont\n",
    "\n",
    "if __name__ == '__main__':\n",
    "    fptr = open(os.environ['OUTPUT_PATH'], 'w')\n",
    "\n",
    "    ar_count = int(input())\n",
    "\n",
    "    ar = list(map(int, input().rstrip().split()))\n",
    "\n",
    "    result = birthdayCakeCandles(ar)\n",
    "\n",
    "    fptr.write(str(result) + '\\n')\n",
    "\n",
    "    fptr.close()\n"
   ]
  },
  {
   "cell_type": "markdown",
   "metadata": {},
   "source": [
    "#### Kangaroo"
   ]
  },
  {
   "cell_type": "code",
   "execution_count": null,
   "metadata": {},
   "outputs": [],
   "source": [
    "import math\n",
    "import os\n",
    "import random\n",
    "import re\n",
    "import sys\n",
    "\n",
    "# Complete the kangaroo function below.\n",
    "def kangaroo(x1, v1, x2, v2):\n",
    "    if v1!=v2: # they will never meet if the speeds are equal, since x2 always greater than x1\n",
    "        t=(x1-x2)/(v2-v1) # from the x(i), equations of the kangaroos you get the time at wich they meet \n",
    "        if ((t>=0)&(t.is_integer())): #time must be an integer, since they have to meet at a precise jump\n",
    "            return 'YES'\n",
    "        else:\n",
    "            return 'NO'\n",
    "    else: #if velocities are equal they never meet\n",
    "        return 'NO'\n",
    "\n",
    "\n",
    "if __name__ == '__main__':\n",
    "    fptr = open(os.environ['OUTPUT_PATH'], 'w')\n",
    "\n",
    "    x1V1X2V2 = input().split()\n",
    "\n",
    "    x1 = int(x1V1X2V2[0])\n",
    "\n",
    "    v1 = int(x1V1X2V2[1])\n",
    "\n",
    "    x2 = int(x1V1X2V2[2])\n",
    "\n",
    "    v2 = int(x1V1X2V2[3])\n",
    "\n",
    "    result = kangaroo(x1, v1, x2, v2)\n",
    "\n",
    "    fptr.write(result + '\\n')\n",
    "\n",
    "    fptr.close()\n"
   ]
  },
  {
   "cell_type": "markdown",
   "metadata": {},
   "source": [
    "# Language Proficiency"
   ]
  },
  {
   "cell_type": "markdown",
   "metadata": {},
   "source": [
    "## Introduction"
   ]
  },
  {
   "cell_type": "markdown",
   "metadata": {},
   "source": [
    "#### Say \"Hello, World!\" With Python\n",
    "\n"
   ]
  },
  {
   "cell_type": "code",
   "execution_count": 3,
   "metadata": {},
   "outputs": [
    {
     "name": "stdout",
     "output_type": "stream",
     "text": [
      "Hello, World!\n"
     ]
    }
   ],
   "source": [
    "print(\"Hello, World!\")"
   ]
  },
  {
   "cell_type": "markdown",
   "metadata": {},
   "source": [
    "#### Python If-Else"
   ]
  },
  {
   "cell_type": "code",
   "execution_count": null,
   "metadata": {},
   "outputs": [],
   "source": [
    "import math\n",
    "import os\n",
    "import random\n",
    "import re\n",
    "import sys\n",
    "\n",
    "if __name__ == '__main__':\n",
    "    n = int(input().strip())  # loop with the requests \n",
    "    if (n%2!=0):\n",
    "        print('Weird')\n",
    "    elif ((n>=2)&(n<=5)):\n",
    "        print('Not Weird')\n",
    "    elif((n>=6)&(n<=20)):\n",
    "        print('Weird')\n",
    "    elif(n>20):\n",
    "        print('Not Weird')\n"
   ]
  },
  {
   "cell_type": "markdown",
   "metadata": {},
   "source": [
    "#### Arithmetic Operators\n",
    "\n"
   ]
  },
  {
   "cell_type": "code",
   "execution_count": null,
   "metadata": {},
   "outputs": [],
   "source": [
    "if __name__ == '__main__':\n",
    "    a = int(input())\n",
    "    b = int(input())\n",
    "    print(a+b)\n",
    "    print(a-b)\n",
    "    print(a*b)\n"
   ]
  },
  {
   "cell_type": "markdown",
   "metadata": {},
   "source": [
    "#### Python: Division\n",
    "\n"
   ]
  },
  {
   "cell_type": "code",
   "execution_count": null,
   "metadata": {},
   "outputs": [],
   "source": [
    "if __name__ == '__main__':\n",
    "    a = int(input())\n",
    "    b = int(input())\n",
    "    print(a//b)\n",
    "    print(a/b)\n"
   ]
  },
  {
   "cell_type": "markdown",
   "metadata": {},
   "source": [
    "#### Loops"
   ]
  },
  {
   "cell_type": "code",
   "execution_count": null,
   "metadata": {},
   "outputs": [],
   "source": [
    "if __name__ == '__main__':\n",
    "    n = int(input())\n",
    "    for i in range(n):\n",
    "        print(i*i)\n"
   ]
  },
  {
   "cell_type": "markdown",
   "metadata": {},
   "source": [
    "#### Write a function"
   ]
  },
  {
   "cell_type": "code",
   "execution_count": null,
   "metadata": {},
   "outputs": [],
   "source": [
    "def is_leap(year):\n",
    "    if (year%4==0):   # if year%4=0 it may be leap\n",
    "        if((year%100==0)&(year%400!=0)): \n",
    "            leap=False\n",
    "        elif((year%100==0)&(year%400==0)):#should also always be divisible by 100 and 400\n",
    "            leap=True\n",
    "        else:\n",
    "            leap=True\n",
    "    else: # if year%4!=0 it is not leap for sure\n",
    "        leap=False\n",
    "    return leap\n",
    "\n",
    "year = int(input())\n",
    "print(is_leap(year))"
   ]
  },
  {
   "cell_type": "markdown",
   "metadata": {},
   "source": [
    "#### Print FUnction"
   ]
  },
  {
   "cell_type": "code",
   "execution_count": null,
   "metadata": {},
   "outputs": [],
   "source": [
    "if __name__ == '__main__':\n",
    "    n = int(input())\n",
    "    for i in range(n):\n",
    "        print (i+1, end='')\n"
   ]
  },
  {
   "cell_type": "markdown",
   "metadata": {},
   "source": [
    "## Basic Data Types"
   ]
  },
  {
   "cell_type": "markdown",
   "metadata": {},
   "source": [
    "#### List Comprehension"
   ]
  },
  {
   "cell_type": "code",
   "execution_count": null,
   "metadata": {},
   "outputs": [],
   "source": [
    "if __name__ == '__main__':\n",
    "    x = int(input())\n",
    "    y = int(input())\n",
    "    z = int(input())\n",
    "    n = int(input())\n",
    "    a=list([[i,j,k] for i in range(x+1) for j in range(y+1) for k in range(z+1) if (i+j+k!=n)])#fill the matrix\n",
    "    print (a)   \n"
   ]
  },
  {
   "cell_type": "markdown",
   "metadata": {},
   "source": [
    "#### Find the runner-up score"
   ]
  },
  {
   "cell_type": "code",
   "execution_count": null,
   "metadata": {},
   "outputs": [],
   "source": [
    "if __name__ == '__main__':\n",
    "    n = int(input())\n",
    "    arr = map(int, input().split())\n",
    "    a=list(arr)\n",
    "    maxa=a[0]\n",
    "    ru=maxa\n",
    "    \n",
    "    for i in range(len(a)): #first maximum\n",
    "        if(a[i]>maxa):\n",
    "            maxa=a[i]       \n",
    "    for i in range(len(a)): #second maximum\n",
    "        if((a[i]>ru)&(a[i]<maxa)):\n",
    "            ru=a[i]\n",
    "        if (ru==maxa):\n",
    "            ru=a[i+1]\n",
    "    print(ru)\n"
   ]
  },
  {
   "cell_type": "markdown",
   "metadata": {},
   "source": [
    "#### Finding the percentage"
   ]
  },
  {
   "cell_type": "code",
   "execution_count": null,
   "metadata": {},
   "outputs": [],
   "source": [
    "if __name__ == '__main__':\n",
    "    n = int(input())\n",
    "    student_marks = {}\n",
    "    for _ in range(n):\n",
    "        name, *line = input().split()\n",
    "        scores = list(map(float, line))\n",
    "        student_marks[name] = scores\n",
    "    query_name = input()\n",
    "\n",
    "    avg=student_marks[query_name][0] \n",
    "    # for the student requested you access to his marks and do the average\n",
    "    for i in range(1,len(student_marks[query_name])): \n",
    "        avg=avg+student_marks[query_name][i]\n",
    "    avg=avg/3\n",
    "    print(format(avg,'.2f')) # print with 2 decimals"
   ]
  },
  {
   "cell_type": "markdown",
   "metadata": {},
   "source": [
    "#### Lists"
   ]
  },
  {
   "cell_type": "code",
   "execution_count": null,
   "metadata": {},
   "outputs": [],
   "source": [
    "if __name__ == '__main__':\n",
    "    N = int(input())\n",
    "    lst=[]\n",
    "    for i in range (N):  #loop with all the possible commands. The element command[0] is always the name of the command\n",
    "        command=input().split() \n",
    "        if (command[0]=='insert'):\n",
    "            lst.insert(int(command[1]), int(command[2]))\n",
    "        elif (command[0]=='print'):\n",
    "            print(lst)\n",
    "        elif (command[0]=='remove'):\n",
    "            lst.remove(int(command[1]))\n",
    "        elif (command[0]=='append'):\n",
    "            lst.append(int(command[1]))\n",
    "        elif (command[0]=='sort'):\n",
    "            lst.sort()\n",
    "        elif (command[0]=='pop'):\n",
    "            lst.pop()\n",
    "        elif (command[0]=='reverse'):\n",
    "            lst.reverse()\n",
    "    \n",
    "    \n"
   ]
  },
  {
   "cell_type": "markdown",
   "metadata": {},
   "source": [
    "#### Tuples"
   ]
  },
  {
   "cell_type": "code",
   "execution_count": null,
   "metadata": {},
   "outputs": [],
   "source": [
    "if __name__ == '__main__':\n",
    "    n = int(input())\n",
    "    integer_list = map(int, input().split())\n",
    "    integer_list=list(integer_list)\n",
    "    print(hash(tuple(integer_list)))\n"
   ]
  },
  {
   "cell_type": "markdown",
   "metadata": {},
   "source": [
    "## Strings"
   ]
  },
  {
   "cell_type": "markdown",
   "metadata": {},
   "source": [
    "#### sWAP cASE\n",
    "\n"
   ]
  },
  {
   "cell_type": "code",
   "execution_count": null,
   "metadata": {},
   "outputs": [],
   "source": [
    "def swap_case(s):\n",
    "\n",
    "    return s.swapcase()\n",
    "\n",
    "if __name__ == '__main__':\n",
    "    s = input()\n",
    "    result = swap_case(s)\n",
    "    print(result)"
   ]
  },
  {
   "cell_type": "markdown",
   "metadata": {},
   "source": [
    "#### String split and join"
   ]
  },
  {
   "cell_type": "code",
   "execution_count": null,
   "metadata": {},
   "outputs": [],
   "source": [
    "def split_and_join(a):\n",
    "    a=a.split(\" \")\n",
    "    return (\"-\".join(a)) #join all elements iof the list a, with separator '-'\n",
    "\n",
    "if __name__ == '__main__':\n",
    "    line = input()\n",
    "    result = split_and_join(line)\n",
    "    print(result)"
   ]
  },
  {
   "cell_type": "markdown",
   "metadata": {},
   "source": [
    "#### What's your name"
   ]
  },
  {
   "cell_type": "code",
   "execution_count": null,
   "metadata": {},
   "outputs": [],
   "source": [
    "def print_full_name(a, b):\n",
    "    print(\"Hello {} {}! You just delved into python.\".format(a,b))\n",
    "\n",
    "if __name__ == '__main__':\n",
    "    first_name = input()\n",
    "    last_name = input()\n",
    "    print_full_name(first_name, last_name)"
   ]
  },
  {
   "cell_type": "markdown",
   "metadata": {},
   "source": [
    "#### Mutations"
   ]
  },
  {
   "cell_type": "code",
   "execution_count": null,
   "metadata": {},
   "outputs": [],
   "source": [
    "def mutate_string(a, i, k):\n",
    "    return (a[:i]+k+a[i+1:])# between the i-1 th and i th element you put k \n",
    "\n",
    "if __name__ == '__main__':\n",
    "    s = input()\n",
    "    i, c = input().split()\n",
    "    s_new = mutate_string(s, int(i), c)\n",
    "    print(s_new)"
   ]
  },
  {
   "cell_type": "markdown",
   "metadata": {},
   "source": [
    "#### Find a string"
   ]
  },
  {
   "cell_type": "code",
   "execution_count": null,
   "metadata": {},
   "outputs": [],
   "source": [
    "def count_substring(string, sub_string):\n",
    "    i=0\n",
    "    cont=0\n",
    "    while (i<=len(string)): #look for the substrig starting from all elements\n",
    "        b=string.find(sub_string)\n",
    "        if (b==-1):  # if there is no substring the returns -1\n",
    "            return cont\n",
    "            \n",
    "        else:    #if it finds the substring it restarts the search from the following\n",
    "            cont=cont+1\n",
    "            string=string[b+1:]\n",
    "        i=i+1\n",
    "    return cont\n",
    "    \n",
    "\n",
    "if __name__ == '__main__':\n",
    "    string = input().strip()\n",
    "    sub_string = input().strip()\n",
    "    \n",
    "    count = count_substring(string, sub_string)\n",
    "    print(count)"
   ]
  },
  {
   "cell_type": "markdown",
   "metadata": {},
   "source": [
    "#### Text Wrap"
   ]
  },
  {
   "cell_type": "code",
   "execution_count": null,
   "metadata": {},
   "outputs": [],
   "source": [
    "import textwrap\n",
    "\n",
    "def wrap(s, m):\n",
    "    \n",
    "    return (textwrap.fill(s,m))\n",
    "\n",
    "if __name__ == '__main__':\n",
    "    string, max_width = input(), int(input())\n",
    "    result = wrap(string, max_width)\n",
    "    print(result)"
   ]
  },
  {
   "cell_type": "markdown",
   "metadata": {},
   "source": [
    "## Sets"
   ]
  },
  {
   "cell_type": "markdown",
   "metadata": {},
   "source": [
    "#### Introduction to Sets"
   ]
  },
  {
   "cell_type": "code",
   "execution_count": null,
   "metadata": {},
   "outputs": [],
   "source": [
    "def average(array):\n",
    "    myset=set(array)\n",
    "    avg=sum(myset)/len(myset) #sum on the elements of the set\n",
    "    return avg\n",
    "    \n",
    "if __name__ == '__main__':\n",
    "    n = int(input())\n",
    "    arr = list(map(int, input().split()))\n",
    "    result = average(arr)\n",
    "    print(result)"
   ]
  },
  {
   "cell_type": "markdown",
   "metadata": {},
   "source": [
    "#### No idea!"
   ]
  },
  {
   "cell_type": "code",
   "execution_count": null,
   "metadata": {},
   "outputs": [],
   "source": [
    "N=input().split()\n",
    "arr=list(map(int, input().split()))\n",
    "A=set(map(int, input().split()))\n",
    "B=set(map(int, input().split()))\n",
    "happiness=0\n",
    "for i in range(len(arr)): #if the element is in A the happiness increases, if in B it decreases\n",
    "    if(arr[i] in A):\n",
    "        happiness+=1\n",
    "    elif(arr[i] in B):\n",
    "        happiness+=-1\n",
    "print(happiness)\n"
   ]
  },
  {
   "cell_type": "markdown",
   "metadata": {},
   "source": [
    "#### Symmetric difference"
   ]
  },
  {
   "cell_type": "code",
   "execution_count": null,
   "metadata": {},
   "outputs": [],
   "source": [
    "if __name__ == '__main__':\n",
    "    n=input()\n",
    "    s1=set(map(int,input().split()))\n",
    "    m=input()\n",
    "    s2=set(map(int,input().split()))\n",
    "\n",
    "    sf=s1.difference(s2).union(s2.difference(s1))\n",
    "    sf=list(sf)\n",
    "    sf=sorted(sf)\n",
    "\n",
    "    for i in range(len(sf)):\n",
    "        print(sf[i])\n"
   ]
  },
  {
   "cell_type": "markdown",
   "metadata": {},
   "source": [
    "#### Set.add()"
   ]
  },
  {
   "cell_type": "code",
   "execution_count": null,
   "metadata": {},
   "outputs": [],
   "source": [
    "if __name__ == '__main__':\n",
    "    N=int(input())\n",
    "    s=set()\n",
    "    for i in range(N):\n",
    "        s.add(input())\n",
    "\n",
    "    print(len(s))\n",
    "        "
   ]
  },
  {
   "cell_type": "markdown",
   "metadata": {},
   "source": [
    "#### Set .discard(), .remove() & .pop()"
   ]
  },
  {
   "cell_type": "code",
   "execution_count": null,
   "metadata": {},
   "outputs": [],
   "source": [
    "n = int(input())\n",
    "s = set(map(int, input().split()))\n",
    "N=int(input())\n",
    "for i in range(N): # loop with all the conditions, command[0] is always the name of the command given in input\n",
    "    command=input().split()\n",
    "    if (command[0]=='pop'):\n",
    "        s.pop()\n",
    "    if (command[0]=='remove'):\n",
    "        s.remove(int(command[1]))\n",
    "    if (command[0]=='discard'):\n",
    "        s.discard(int(command[1]))\n",
    "print(sum(s))"
   ]
  },
  {
   "cell_type": "markdown",
   "metadata": {},
   "source": [
    "#### Set .union() Operation"
   ]
  },
  {
   "cell_type": "code",
   "execution_count": null,
   "metadata": {},
   "outputs": [],
   "source": [
    "n=int(input())\n",
    "st1=set(map(int,input().split()))\n",
    "m=int(input())\n",
    "st2=set(map(int,input().split()))\n",
    "\n",
    "un=st1.union(st2)\n",
    "print(len(un))\n"
   ]
  },
  {
   "cell_type": "markdown",
   "metadata": {},
   "source": [
    "#### Set .intersection() Operation\n",
    "\n"
   ]
  },
  {
   "cell_type": "code",
   "execution_count": null,
   "metadata": {},
   "outputs": [],
   "source": [
    "n=int(input())\n",
    "st1=set(map(int, input().split()))\n",
    "m=int(input())\n",
    "st2=set(map(int, input().split()))\n",
    "\n",
    "un=st1.intersection(st2)\n",
    "print(len(un))\n"
   ]
  },
  {
   "cell_type": "markdown",
   "metadata": {},
   "source": [
    "#### Set .difference() Operation\n",
    "\n"
   ]
  },
  {
   "cell_type": "code",
   "execution_count": null,
   "metadata": {},
   "outputs": [],
   "source": [
    "n=int(input())\n",
    "st1=set(map(int, input().split()))\n",
    "m=int(input())\n",
    "st2=set(map(int, input().split()))\n",
    "\n",
    "print(len(st1.difference(st2)))\n"
   ]
  },
  {
   "cell_type": "markdown",
   "metadata": {},
   "source": [
    "#### Set .symmetric_difference() Operation\n",
    "\n"
   ]
  },
  {
   "cell_type": "code",
   "execution_count": null,
   "metadata": {},
   "outputs": [],
   "source": [
    "n=int(input())\n",
    "st1=set(map(int, input().split()))\n",
    "m=int(input())\n",
    "st2=set(map(int, input().split()))\n",
    "\n",
    "print(len(st1.symmetric_difference(st2)))\n"
   ]
  },
  {
   "cell_type": "markdown",
   "metadata": {},
   "source": [
    "#### Set mutations"
   ]
  },
  {
   "cell_type": "code",
   "execution_count": null,
   "metadata": {},
   "outputs": [],
   "source": [
    "N=int(input())\n",
    "A=set(map(int, input().split()))\n",
    "m=int(input())\n",
    "\n",
    "for i in range(m): # loop with all the conditions, command[0] is always the name of the command given in input\n",
    "    s=set(map(int, input().split()))\n",
    "    if (comd[0]=='intersection_update'):\n",
    "        A.intersection_update(s)\n",
    "    elif (comd[0]=='symmetric_difference_update'):\n",
    "        A.symmetric_difference_update(s)\n",
    "    elif (comd[0]=='difference_update'):\n",
    "        A.difference_update(s)\n",
    "    elif (comd[0]=='update'):\n",
    "        A.update(s)\n",
    "print(sum(A))\n"
   ]
  },
  {
   "cell_type": "markdown",
   "metadata": {},
   "source": [
    "#### Check subsets"
   ]
  },
  {
   "cell_type": "code",
   "execution_count": null,
   "metadata": {},
   "outputs": [],
   "source": [
    "T=int(input())\n",
    "for i in range(T):\n",
    "    n1=int(input())\n",
    "    subs=set(map(int, input().split()))\n",
    "    n2=int(input())\n",
    "    s=set(map(int, input().split()))\n",
    "\n",
    "    if(subs.intersection(s)==subs): # if the interscection between A and B is equal to A, it means A is a subset of B\n",
    "        print('True')\n",
    "    else :\n",
    "        print('False')\n",
    "\n"
   ]
  },
  {
   "cell_type": "markdown",
   "metadata": {},
   "source": [
    "#### Check strict superset"
   ]
  },
  {
   "cell_type": "code",
   "execution_count": null,
   "metadata": {},
   "outputs": [],
   "source": [
    "A=set(map(int, input().split()))\n",
    "B=set()\n",
    "x=[]\n",
    "n=int(input())\n",
    "for i in range(n):# verifies if all given subsets are strict superset of A\n",
    "    B=set(map(int, input().split()))\n",
    "    if((A.intersection(B)==B)&(A!=B)):\n",
    "        x.append('True') #saves for each subset the answer in the list x\n",
    "    else:\n",
    "        x.append('False')\n",
    "x=set(x)\n",
    "if (('True' in x)&('False' not in x)): # prints 'True' if all given subsets are strick subsets of A, and 'False' otherwise\n",
    "    print('True')\n",
    "else:\n",
    "    print('False')\n",
    "\n",
    "\n",
    "     "
   ]
  },
  {
   "cell_type": "markdown",
   "metadata": {},
   "source": [
    "## Collections\n"
   ]
  },
  {
   "cell_type": "markdown",
   "metadata": {},
   "source": [
    "#### collections.Counter()"
   ]
  },
  {
   "cell_type": "code",
   "execution_count": null,
   "metadata": {},
   "outputs": [],
   "source": [
    "from collections import Counter\n",
    "X=int(input())\n",
    "shoe=list(map(int, input().split())) # list with all the types of shoes\n",
    "shoe_c=Counter(shoe) # counter of various shoes\n",
    "monies=0\n",
    "N=int(input())\n",
    "for i in range(N): #takes N orders\n",
    "    order=list(map(int, input().split()))\n",
    "    if order[0] in shoe_c.keys(): #verifies that the shoe is available, if it is then in can be bought\n",
    "        monies+=order[1]\n",
    "        shoe.remove(order[0]) # update of the shoe list and counter\n",
    "        shoe_c=Counter(shoe)\n",
    "    \n",
    "print(monies)\n",
    "\n",
    "\n",
    "\n",
    "\n"
   ]
  },
  {
   "cell_type": "markdown",
   "metadata": {},
   "source": [
    "#### collections.namedtuple()"
   ]
  },
  {
   "cell_type": "code",
   "execution_count": null,
   "metadata": {},
   "outputs": [],
   "source": [
    "from collections import namedtuple\n",
    "N=int(input())\n",
    "student=namedtuple('std', input().split())\n",
    "summ=0 # sum of the marks\n",
    "for i in range(N):\n",
    "    st_lst=list(input().split())\n",
    "    std=student(st_lst[0], st_lst[1],st_lst[2], st_lst[3])\n",
    "    summ+=int(std.MARKS) # takes the marks under the key 'MARKS', and takes at the end the average\n",
    "print(summ/N)\n"
   ]
  },
  {
   "cell_type": "markdown",
   "metadata": {},
   "source": [
    "#### Collections.OrderedDict()\n",
    "\n"
   ]
  },
  {
   "cell_type": "code",
   "execution_count": null,
   "metadata": {},
   "outputs": [],
   "source": [
    "from collections import OrderedDict\n",
    "dic = OrderedDict()\n",
    "N=int(input())\n",
    "for i in range(N):\n",
    "    obj=list(input().split())\n",
    "    #obj takes the input and then adds the element in dic. \n",
    "    if ' '.join(obj[:-1]) in dic:  #checks if the new element is alredy in dic\n",
    "        dic[' '.join(obj[:-1])]+=int(obj[-1]) #if the element is alredy in dic then the dic is updated\n",
    "    else : # if the element is not in the dic the it is added\n",
    "        dic.update({' '.join(obj[:-1]):int(obj[-1])})\n",
    "\n",
    "for x in dic:\n",
    "    print(x,dic[x])\n"
   ]
  },
  {
   "cell_type": "markdown",
   "metadata": {},
   "source": [
    "#### Word order"
   ]
  },
  {
   "cell_type": "code",
   "execution_count": null,
   "metadata": {},
   "outputs": [],
   "source": [
    "from collections import OrderedDict\n",
    "from collections import Counter\n",
    "\n",
    "N=int(input())\n",
    "od=OrderedDict()\n",
    "for i in range(N):\n",
    "    word=input()\n",
    "    if word in od:#if the new word is in od alredy then the OrdereDict gets updated\n",
    "        od[word]+=1\n",
    "    else: # if the new word it is not in od alredy then it gets added\n",
    "        od.update({word:1})\n",
    "\n",
    "print(len(od.keys())) # number of different words\n",
    "for x in od.values():#counter in order of input\n",
    "    print(x, end=' ')\n"
   ]
  },
  {
   "cell_type": "markdown",
   "metadata": {},
   "source": [
    "#### Collections deque()"
   ]
  },
  {
   "cell_type": "code",
   "execution_count": null,
   "metadata": {},
   "outputs": [],
   "source": [
    "from collections import deque\n",
    "d = deque()\n",
    "N=int(input())\n",
    "for i in range(N): #loop with all the possible conditions\n",
    "    comm=list(input(). split())\n",
    "    if comm[0]=='append':\n",
    "        d.append(int(comm[1]))\n",
    "    if comm[0]=='pop':\n",
    "        d.pop()\n",
    "    if comm[0]=='popleft':\n",
    "        d.popleft()\n",
    "    if comm[0]=='appendleft':\n",
    "        d.appendleft(int(comm[1]))\n",
    "for i in range(len(d)):\n",
    "    print(d[i], end=' ')\n"
   ]
  },
  {
   "cell_type": "markdown",
   "metadata": {},
   "source": [
    "## Date and time"
   ]
  },
  {
   "cell_type": "markdown",
   "metadata": {},
   "source": [
    "#### Calendar"
   ]
  },
  {
   "cell_type": "code",
   "execution_count": null,
   "metadata": {},
   "outputs": [],
   "source": [
    "import calendar\n",
    "date=list(map(int, input().split()))\n",
    "m=date[0]\n",
    "d=date[1]\n",
    "y=date[2]\n",
    "if calendar.weekday(y,m,d)==0: # calendar.weekday() gives the number of the day, with this loop the numbers are associated with the days\n",
    "    print('MONDAY')\n",
    "elif calendar.weekday(y,m,d)==1:\n",
    "    print('TUESDAY')\n",
    "elif calendar.weekday(y,m,d)==2:\n",
    "    print('WEDNESDAY')\n",
    "elif calendar.weekday(y,m,d)==3:\n",
    "    print('THURSDAY')\n",
    "elif calendar.weekday(y,m,d)==4:\n",
    "    print('FRIDAY')\n",
    "elif calendar.weekday(y,m,d)==5:\n",
    "    print('SATURDAY')\n",
    "elif calendar.weekday(y,m,d)==6:\n",
    "    print('SUNDAY')\n"
   ]
  },
  {
   "cell_type": "markdown",
   "metadata": {},
   "source": [
    "## Numpy"
   ]
  },
  {
   "cell_type": "markdown",
   "metadata": {},
   "source": [
    "#### Arrays"
   ]
  },
  {
   "cell_type": "code",
   "execution_count": null,
   "metadata": {},
   "outputs": [],
   "source": [
    "import numpy\n",
    "def arrays(ar):\n",
    "    return numpy.array(ar[::-1], float) #reverse the array, converting all elements to float\n",
    "arr = input().strip().split(' ')\n",
    "result = arrays(arr)\n",
    "print(result)"
   ]
  },
  {
   "cell_type": "markdown",
   "metadata": {},
   "source": [
    "#### Shape and reshape"
   ]
  },
  {
   "cell_type": "code",
   "execution_count": null,
   "metadata": {},
   "outputs": [],
   "source": [
    "import numpy as np\n",
    "lst=list(map(int, input().split()))\n",
    "arr=np.array(lst)\n",
    "dim=arr.shape\n",
    "new_arr=np.reshape(arr,(3,3)) #reshape in the new format\n",
    "print(new_arr)"
   ]
  },
  {
   "cell_type": "markdown",
   "metadata": {},
   "source": [
    "#### Transpose and flatten"
   ]
  },
  {
   "cell_type": "code",
   "execution_count": null,
   "metadata": {},
   "outputs": [],
   "source": [
    "import numpy as np\n",
    "lst=list(map(int, input().split()))\n",
    "v=np.zeros((lst[0], lst[1])) #initialize the array with dimension given in input\n",
    "for i in range(lst[0]):\n",
    "    inpt=list(map(int, input().split())) \n",
    "    v[i]=np.array(inpt) # fill array\n",
    "v=v.astype(int)        #change format to int\n",
    "print(np.transpose(v))\n",
    "print(v.flatten())  \n",
    "\n",
    "        "
   ]
  },
  {
   "cell_type": "markdown",
   "metadata": {},
   "source": [
    "#### COncatenate"
   ]
  },
  {
   "cell_type": "code",
   "execution_count": null,
   "metadata": {},
   "outputs": [],
   "source": [
    "import numpy as np\n",
    "lst=list(map(int, input().split()))\n",
    "v=np.empty((lst[0]+lst[1],lst[2])) #initialize array with dimension given in input\n",
    "for i in range(lst[0]+lst[1]):\n",
    "    inpt=list(map(int, input().split()))\n",
    "    v[i]=np.array(inpt) #fill array\n",
    "v=v.astype(int)\n",
    "print(v)\n"
   ]
  },
  {
   "cell_type": "markdown",
   "metadata": {},
   "source": [
    "#### Array mathematics"
   ]
  },
  {
   "cell_type": "code",
   "execution_count": null,
   "metadata": {},
   "outputs": [],
   "source": [
    "import numpy as np\n",
    "nm=list(map(int, input().split()))\n",
    "A=np.empty((nm[0], nm[1])) #initilize both arrays\n",
    "B=np.empty((nm[0], nm[1]))\n",
    "for i in range (nm[0]):\n",
    "    A[i]=np.array(list(map(int, input().split()))) #fill A\n",
    "for i in range (nm[0]):\n",
    "    B[i]=np.array(list(map(int, input().split()))) #fill B\n",
    "\n",
    "A=A.astype(int)\n",
    "B=B.astype(int)\n",
    "\n",
    "print(A+B,A-B,A*B,A//B,A%B,A**B, sep='\\n') #print operations requested\n"
   ]
  },
  {
   "cell_type": "markdown",
   "metadata": {},
   "source": [
    "#### Floor ceil and rint"
   ]
  },
  {
   "cell_type": "code",
   "execution_count": null,
   "metadata": {},
   "outputs": [],
   "source": [
    "import numpy as np\n",
    "np.set_printoptions(sign=' ') #I took this part from discussion section, needed it for the correct print format\n",
    "arr=np.array(input().split())\n",
    "arr=arr.astype(float)\n",
    "print(np.floor(arr), np.ceil(arr), np.rint(arr), sep='\\n') #operations requested\n",
    "\n",
    "\n"
   ]
  },
  {
   "cell_type": "markdown",
   "metadata": {},
   "source": [
    "#### sum and prod"
   ]
  },
  {
   "cell_type": "code",
   "execution_count": null,
   "metadata": {},
   "outputs": [],
   "source": [
    "import numpy as np\n",
    "nm=list(map(int, input().split()))\n",
    "A=np.empty((nm[0], nm[1])) #initialize array with dimension given in input\n",
    "for i in range (nm[0]): #fill array\n",
    "    A[i]=np.array(input().split(), int)\n",
    "print(int(np.prod(np.sum(A,axis=0)))) #operations requested\n",
    "\n",
    "\n"
   ]
  },
  {
   "cell_type": "markdown",
   "metadata": {},
   "source": [
    "#### Min and max"
   ]
  },
  {
   "cell_type": "code",
   "execution_count": null,
   "metadata": {},
   "outputs": [],
   "source": [
    "import numpy as np\n",
    "nm=list(map(int, input().split()))\n",
    "A=np.empty((nm[0], nm[1])) #initialize array\n",
    "\n",
    "for i in range (nm[0]): #fill array\n",
    "    A[i]=np.array(list(map(int, input().split())))\n",
    "\n",
    "print(int(np.max(np.min(A,axis=1)))) #operations requested\n",
    "\n",
    "\n"
   ]
  },
  {
   "cell_type": "markdown",
   "metadata": {},
   "source": [
    "#### Mean , Var and Std"
   ]
  },
  {
   "cell_type": "code",
   "execution_count": null,
   "metadata": {},
   "outputs": [],
   "source": [
    "import numpy as np\n",
    "np.set_printoptions(legacy='1.13') # took this part from discussion section, needed it for the correct print format\n",
    "nm=list(map(int, input().split()))\n",
    "A=np.empty((nm[0], nm[1])) #initialize\n",
    "\n",
    "for i in range (nm[0]): #fill\n",
    "    A[i]=np.array(list(map(int, input().split())))\n",
    "print(np.mean(A,axis=1), np.var(A,axis=0), np.std(A,axis=None), sep='\\n')#operations requested\n",
    "\n"
   ]
  },
  {
   "cell_type": "markdown",
   "metadata": {},
   "source": [
    "#### Dot and Cross"
   ]
  },
  {
   "cell_type": "code",
   "execution_count": null,
   "metadata": {},
   "outputs": [],
   "source": [
    "import numpy as np\n",
    "n=int(input())\n",
    "A=np.empty((n, n)) #initialize A and B\n",
    "B=np.empty((n, n))\n",
    "for i in range (n): #fill A\n",
    "    A[i]=np.array(input().split())\n",
    "for i in range (n): #fill B\n",
    "    B[i]=np.array(input().split())\n",
    "print(np.dot(A,B).astype(int)) #operations requested\n"
   ]
  },
  {
   "cell_type": "markdown",
   "metadata": {},
   "source": [
    "#### Inner and Outer"
   ]
  },
  {
   "cell_type": "code",
   "execution_count": null,
   "metadata": {},
   "outputs": [],
   "source": [
    "import numpy as np\n",
    "\n",
    "A = np.array(input().split(), int)\n",
    "B = np.array(input().split(), int)\n",
    "\n",
    "print(np.inner(A,B), np.outer(A,B), sep='\\n') #operations requested\n",
    "\n"
   ]
  },
  {
   "cell_type": "markdown",
   "metadata": {},
   "source": [
    "#### Polynomials"
   ]
  },
  {
   "cell_type": "code",
   "execution_count": null,
   "metadata": {},
   "outputs": [],
   "source": [
    "import numpy as np\n",
    "coeff=list(map(float,input().split()))\n",
    "x=float(input())\n",
    "coeff=coeff[::-1] #reverse the coefficients list\n",
    "res=0\n",
    "for i in range(len(coeff)): #evaluete polynomial in the given point x\n",
    "    res+=coeff[i]*x**i\n",
    "print(res)\n"
   ]
  },
  {
   "cell_type": "markdown",
   "metadata": {},
   "source": [
    "#### Linear Algebra"
   ]
  },
  {
   "cell_type": "code",
   "execution_count": null,
   "metadata": {},
   "outputs": [],
   "source": [
    "import numpy as np\n",
    "from numpy import linalg\n",
    "n=int(input())\n",
    "M=np.empty((n,n)) #initialize matrix\n",
    "for i in range(n):\n",
    "    M[i]=np.array(input().split(), float) #fill matrix\n",
    "print(round(linalg.det(M),2)) #determinant\n"
   ]
  }
 ],
 "metadata": {
  "kernelspec": {
   "display_name": "Python 3",
   "language": "python",
   "name": "python3"
  },
  "language_info": {
   "codemirror_mode": {
    "name": "ipython",
    "version": 3
   },
   "file_extension": ".py",
   "mimetype": "text/x-python",
   "name": "python",
   "nbconvert_exporter": "python",
   "pygments_lexer": "ipython3",
   "version": "3.7.3"
  }
 },
 "nbformat": 4,
 "nbformat_minor": 2
}
